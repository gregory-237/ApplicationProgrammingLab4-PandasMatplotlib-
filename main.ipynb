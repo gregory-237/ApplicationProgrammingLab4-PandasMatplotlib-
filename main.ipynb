{
 "cells": [
  {
   "cell_type": "code",
   "execution_count": null,
   "metadata": {},
   "outputs": [],
   "source": [
    "import numpy as np\n",
    "import pandas as pd\n",
    "import matplotlib.pyplot as plt\n",
    "from pandas import DataFrame\n",
    "from datetime import date\n",
    "import calendar\n",
    "import math"
   ]
  },
  {
   "cell_type": "code",
   "execution_count": null,
   "metadata": {},
   "outputs": [],
   "source": [
    "\"\"\"приведение DF к нормальному виду(считывание, удаление None значений, добавление отклонений от среднего и медианы)\"\"\"\n",
    "def datasetNormalise()->DataFrame:\n",
    "    df = pd.read_csv('dataset.csv', sep=',', names=['Date', 'Value'])\n",
    "    df = df.dropna()\n",
    "    # df = df.query('Date >= \"1998-01-01\"')\n",
    "    df_mean = df[\"Value\"].mean()\n",
    "    df_median = df[\"Value\"].median()\n",
    "    df[\"Mean\"] = df.apply(lambda x: (abs(x[\"Value\"] - df_mean)), axis=1)\n",
    "    df[\"Median\"] = df.apply(lambda x: (abs(x[\"Value\"] - df_median)), axis=1)\n",
    "    df = df.sort_values(by=\"Date\", ascending=True)\n",
    "    return df"
   ]
  },
  {
   "cell_type": "code",
   "execution_count": null,
   "metadata": {},
   "outputs": [],
   "source": [
    "\"\"\"нахождение значений с отлонением от медианы >= заданного значения value\"\"\"\n",
    "def findValueByMean(df:DataFrame, value:float)->DataFrame:\n",
    "    return df.query('Mean >= @value')"
   ]
  },
  {
   "cell_type": "code",
   "execution_count": null,
   "metadata": {},
   "outputs": [],
   "source": [
    "\"\"\"нахождение значений во временном отрезке\"\"\"\n",
    "def findValueInTimedelta(df:DataFrame, first_date:date, last_date:date)->DataFrame:\n",
    "    return df.query('Date >= @first_date and Date <= @last_date')"
   ]
  },
  {
   "cell_type": "code",
   "execution_count": null,
   "metadata": {},
   "outputs": [],
   "source": [
    "\"\"\"построение графиков значений в определенном месяце, среднего значения и медианы\"\"\"\n",
    "def makePlotMonth(df:DataFrame, year:int, month:int):\n",
    "    fig = plt.figure(figsize=(10, 5))\n",
    "    plt.ylabel('Значение')\n",
    "    plt.xlabel('Дата')\n",
    "    plt.title('Курс Доллара')\n",
    "    _, last_day = calendar.monthrange(year, month)\n",
    "    first = str(date(year, month, 1))\n",
    "    last = str(date(year, month, last_day))\n",
    "    new_df = findValueInTimedelta(df, first, last)\n",
    "    x = new_df[\"Date\"]\n",
    "    y = new_df[\"Value\"]\n",
    "    y1 = new_df[\"Value\"].mean()\n",
    "    y2 = new_df[\"Value\"].median()\n",
    "    plt.scatter(x, y, color='black', linestyle='-', linewidths=1)\n",
    "    plt.axhline (y=y1, color='red', linestyle='--', label='Среднее значение')\n",
    "    plt.axhline (y=y2, color='brown', linestyle='--', label='Медиана') \n",
    "    plt.legend()\n",
    "    plt.show()"
   ]
  },
  {
   "cell_type": "code",
   "execution_count": null,
   "metadata": {},
   "outputs": [],
   "source": [
    "\"\"\"построение графика курса за весь период\"\"\"\n",
    "def makePlot(df:DataFrame):\n",
    "    fig = plt.figure(figsize=(10, 5))\n",
    "    plt.ylabel('Значение')\n",
    "    plt.xlabel('Дата')\n",
    "    plt.title('Курс Доллара')\n",
    "    new_df = df.query('Date >= \"1998-01-01\"')\n",
    "    x = new_df[\"Date\"]\n",
    "    y = new_df[\"Value\"]\n",
    "    y1 = new_df[\"Value\"].mean()\n",
    "    y2 = new_df[\"Value\"].median()\n",
    "    plt.scatter(x, y, color='black', linestyle='-', linewidths=1)\n",
    "    plt.axhline (y=y1, color='red', linestyle='--', label='Среднее значение')\n",
    "    plt.axhline (y=y2, color='brown', linestyle='--', label='Медиана') \n",
    "    plt.legend()\n",
    "    plt.show()"
   ]
  },
  {
   "cell_type": "code",
   "execution_count": null,
   "metadata": {},
   "outputs": [],
   "source": [
    "\n",
    "df = datasetNormalise()\n",
    "df"
   ]
  },
  {
   "cell_type": "code",
   "execution_count": null,
   "metadata": {},
   "outputs": [],
   "source": [
    "df.describe()"
   ]
  },
  {
   "cell_type": "code",
   "execution_count": null,
   "metadata": {},
   "outputs": [],
   "source": [
    "findValueByMean(df, 500)"
   ]
  },
  {
   "cell_type": "code",
   "execution_count": null,
   "metadata": {},
   "outputs": [],
   "source": [
    "findValueInTimedelta(df, '2023-02-02', '2023-03-03')"
   ]
  },
  {
   "cell_type": "code",
   "execution_count": null,
   "metadata": {},
   "outputs": [],
   "source": [
    "makePlot(df)"
   ]
  },
  {
   "cell_type": "code",
   "execution_count": null,
   "metadata": {},
   "outputs": [],
   "source": [
    "makePlotMonth(df, 2020, 2)"
   ]
  },
  {
   "cell_type": "code",
   "execution_count": null,
   "metadata": {},
   "outputs": [],
   "source": [
    "df['Date'] = pd.to_datetime(df['Date'], errors='coerce')\n",
    "df.groupby([(df[\"Date\"].dt.year), (df[\"Date\"].dt.month)]).mean()"
   ]
  }
 ],
 "metadata": {
  "kernelspec": {
   "display_name": "Python 3",
   "language": "python",
   "name": "python3"
  },
  "language_info": {
   "codemirror_mode": {
    "name": "ipython",
    "version": 3
   },
   "file_extension": ".py",
   "mimetype": "text/x-python",
   "name": "python",
   "nbconvert_exporter": "python",
   "pygments_lexer": "ipython3",
   "version": "3.11.0"
  }
 },
 "nbformat": 4,
 "nbformat_minor": 2
}
